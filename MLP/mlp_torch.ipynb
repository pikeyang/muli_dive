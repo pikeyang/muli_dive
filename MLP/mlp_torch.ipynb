{
 "cells": [
  {
   "cell_type": "code",
   "execution_count": 8,
   "metadata": {
    "collapsed": true
   },
   "outputs": [
    {
     "name": "stdout",
     "output_type": "stream",
     "text": [
      "loss: 2.3020269870758057 [    0/60000]\n",
      "loss: 2.2972018718719482 [ 2560/60000]\n",
      "loss: 2.2905514240264893 [ 5120/60000]\n",
      "loss: 2.2816665172576904 [ 7680/60000]\n",
      "loss: 2.27524733543396 [10240/60000]\n",
      "loss: 2.264625072479248 [12800/60000]\n",
      "loss: 2.2551395893096924 [15360/60000]\n",
      "loss: 2.240834951400757 [17920/60000]\n",
      "loss: 2.229220151901245 [20480/60000]\n",
      "loss: 2.2214231491088867 [23040/60000]\n",
      "loss: 2.2063052654266357 [25600/60000]\n",
      "loss: 2.1928532123565674 [28160/60000]\n",
      "loss: 2.1728107929229736 [30720/60000]\n",
      "loss: 2.172477960586548 [33280/60000]\n",
      "loss: 2.1379008293151855 [35840/60000]\n",
      "loss: 2.12017560005188 [38400/60000]\n",
      "loss: 2.0938830375671387 [40960/60000]\n",
      "loss: 2.0730910301208496 [43520/60000]\n",
      "loss: 2.0360281467437744 [46080/60000]\n",
      "loss: 2.0048913955688477 [48640/60000]\n",
      "loss: 1.9574660062789917 [51200/60000]\n",
      "loss: 1.9556293487548828 [53760/60000]\n",
      "loss: 1.9230740070343018 [56320/60000]\n",
      "loss: 1.8620978593826294 [58880/60000]\n",
      "epoch: 0, test acc: 0.4722999930381775\n",
      "loss: 1.841585636138916 [    0/60000]\n",
      "loss: 1.8379639387130737 [ 2560/60000]\n",
      "loss: 1.7795532941818237 [ 5120/60000]\n",
      "loss: 1.758636236190796 [ 7680/60000]\n",
      "loss: 1.729573130607605 [10240/60000]\n",
      "loss: 1.6781131029129028 [12800/60000]\n",
      "loss: 1.6652523279190063 [15360/60000]\n",
      "loss: 1.6286228895187378 [17920/60000]\n",
      "loss: 1.618609070777893 [20480/60000]\n",
      "loss: 1.557711124420166 [23040/60000]\n",
      "loss: 1.5344401597976685 [25600/60000]\n",
      "loss: 1.5692143440246582 [28160/60000]\n",
      "loss: 1.470147967338562 [30720/60000]\n",
      "loss: 1.4844579696655273 [33280/60000]\n",
      "loss: 1.393341302871704 [35840/60000]\n",
      "loss: 1.4715315103530884 [38400/60000]\n",
      "loss: 1.4018148183822632 [40960/60000]\n",
      "loss: 1.413602352142334 [43520/60000]\n",
      "loss: 1.3507170677185059 [46080/60000]\n",
      "loss: 1.3237437009811401 [48640/60000]\n",
      "loss: 1.34505295753479 [51200/60000]\n",
      "loss: 1.3300760984420776 [53760/60000]\n",
      "loss: 1.2998675107955933 [56320/60000]\n",
      "loss: 1.2898306846618652 [58880/60000]\n",
      "epoch: 1, test acc: 0.59170001745224\n",
      "loss: 1.2904951572418213 [    0/60000]\n",
      "loss: 1.2998111248016357 [ 2560/60000]\n",
      "loss: 1.231368899345398 [ 5120/60000]\n",
      "loss: 1.1674383878707886 [ 7680/60000]\n",
      "loss: 1.1927860975265503 [10240/60000]\n",
      "loss: 1.1627498865127563 [12800/60000]\n",
      "loss: 1.1970983743667603 [15360/60000]\n",
      "loss: 1.1875663995742798 [17920/60000]\n",
      "loss: 1.1536747217178345 [20480/60000]\n",
      "loss: 1.165145993232727 [23040/60000]\n",
      "loss: 1.1837276220321655 [25600/60000]\n",
      "loss: 1.1169744729995728 [28160/60000]\n",
      "loss: 1.145265817642212 [30720/60000]\n",
      "loss: 1.102842926979065 [33280/60000]\n",
      "loss: 1.0587598085403442 [35840/60000]\n",
      "loss: 1.0913820266723633 [38400/60000]\n",
      "loss: 1.0462566614151 [40960/60000]\n",
      "loss: 1.1101813316345215 [43520/60000]\n",
      "loss: 1.09744393825531 [46080/60000]\n",
      "loss: 1.022152066230774 [48640/60000]\n",
      "loss: 1.130001425743103 [51200/60000]\n",
      "loss: 1.0538429021835327 [53760/60000]\n",
      "loss: 1.0303813219070435 [56320/60000]\n",
      "loss: 1.0385009050369263 [58880/60000]\n",
      "epoch: 2, test acc: 0.6481999754905701\n"
     ]
    }
   ],
   "source": [
    "import torch\n",
    "from torch import nn\n",
    "from torch.nn import init\n",
    "import numpy as np\n",
    "import sys\n",
    "sys.path.append(\"..\")\n",
    "import d2lzh_pytorch as d2l\n",
    "\n",
    "\n",
    "if __name__ == '__main__':\n",
    "    num_inputs, num_outputs, num_hiddens = 784, 10, 256\n",
    "\n",
    "    net = nn.Sequential(\n",
    "        d2l.FlattenLayer(),\n",
    "        nn.Linear(num_inputs, num_hiddens),\n",
    "        nn.ReLU(),\n",
    "        nn.Linear(num_hiddens, num_outputs)\n",
    "    )\n",
    "\n",
    "    for param in net.parameters():\n",
    "        init.normal_(param, mean=0, std=0.01)\n",
    "\n",
    "    batch, lr, num_epoch = 256, 0.01, 3\n",
    "    loss = nn.CrossEntropyLoss()\n",
    "    optim = torch.optim.SGD(net.parameters(), lr=lr, weight_decay=0.01)\n",
    "\n",
    "    train_iter, test_iter = d2l.load_data_fashion_mnist(batch)\n",
    "\n",
    "    size = len(train_iter.dataset)\n",
    "    for epoch in range(num_epoch):\n",
    "        for batch, (X, y) in enumerate(train_iter):\n",
    "            y_hat = net(X)\n",
    "            # print(y_hat.shape)\n",
    "            l = loss(y_hat, y).sum()\n",
    "\n",
    "            optim.zero_grad()\n",
    "\n",
    "            l.backward()\n",
    "            optim.step()\n",
    "\n",
    "            train_loss = l.mean().item()\n",
    "            train_acc = (y_hat.argmax(dim=1) == y).float().mean().item()\n",
    "\n",
    "            if batch % 10 == 0:\n",
    "                lo, current = l.item(), batch * len(X)\n",
    "                print(\"loss: {} [{:>5d}/{:>5d}]\".format(lo, current, size))\n",
    "\n",
    "        test_acc = d2l.evaluate_accuracy(test_iter, net)\n",
    "        print(\"epoch: {}, test acc: {}\".format(epoch, test_acc))"
   ]
  },
  {
   "cell_type": "code",
   "execution_count": 3,
   "outputs": [
    {
     "name": "stdout",
     "output_type": "stream",
     "text": [
      "torch.Size([96, 10])\n"
     ]
    }
   ],
   "source": [],
   "metadata": {
    "collapsed": false,
    "pycharm": {
     "name": "#%%\n"
    }
   }
  },
  {
   "cell_type": "code",
   "execution_count": 4,
   "outputs": [
    {
     "name": "stdout",
     "output_type": "stream",
     "text": [
      "torch.Size([96])\n"
     ]
    }
   ],
   "source": [],
   "metadata": {
    "collapsed": false,
    "pycharm": {
     "name": "#%%\n"
    }
   }
  },
  {
   "cell_type": "code",
   "execution_count": null,
   "outputs": [],
   "source": [],
   "metadata": {
    "collapsed": false,
    "pycharm": {
     "name": "#%%\n"
    }
   }
  }
 ],
 "metadata": {
  "kernelspec": {
   "display_name": "Python 3",
   "language": "python",
   "name": "python3"
  },
  "language_info": {
   "codemirror_mode": {
    "name": "ipython",
    "version": 2
   },
   "file_extension": ".py",
   "mimetype": "text/x-python",
   "name": "python",
   "nbconvert_exporter": "python",
   "pygments_lexer": "ipython2",
   "version": "2.7.6"
  }
 },
 "nbformat": 4,
 "nbformat_minor": 0
}