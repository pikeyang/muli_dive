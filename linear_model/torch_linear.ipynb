{
 "cells": [
  {
   "cell_type": "code",
   "execution_count": 2,
   "metadata": {
    "collapsed": true
   },
   "outputs": [],
   "source": [
    "%matplotlib inline\n",
    "import torch\n",
    "from IPython import display\n",
    "from matplotlib import pyplot as plt\n",
    "import numpy as np\n",
    "import random"
   ]
  },
  {
   "cell_type": "code",
   "execution_count": 3,
   "outputs": [],
   "source": [
    "# generate a dateset\n",
    "num_inputs = 2\n",
    "num_examples = 1000\n",
    "\n",
    "true_w = torch.tensor([2, -3.4])\n",
    "true_b = torch.tensor(4.2)\n",
    "\n",
    "features = torch.randn(num_examples, num_inputs, dtype=torch.float32)\n",
    "\n",
    "labels = torch.matmul(features, true_w) + true_b\n",
    "\n",
    "labels += torch.tensor(np.random.normal(0, 0.01, size=labels.size()), dtype=torch.float32)"
   ],
   "metadata": {
    "collapsed": false,
    "pycharm": {
     "name": "#%%\n"
    }
   }
  },
  {
   "cell_type": "code",
   "execution_count": 4,
   "outputs": [
    {
     "data": {
      "text/plain": "torch.Size([1000])"
     },
     "execution_count": 4,
     "metadata": {},
     "output_type": "execute_result"
    }
   ],
   "source": [
    "labels.shape"
   ],
   "metadata": {
    "collapsed": false,
    "pycharm": {
     "name": "#%%\n"
    }
   }
  },
  {
   "cell_type": "code",
   "execution_count": 5,
   "outputs": [
    {
     "data": {
      "text/plain": "<matplotlib.collections.PathCollection at 0x13db6d0d790>"
     },
     "execution_count": 5,
     "metadata": {},
     "output_type": "execute_result"
    },
    {
     "data": {
      "text/plain": "<Figure size 432x288 with 1 Axes>",
      "image/png": "[encoded data removed]"
     },
     "metadata": {
      "needs_background": "light"
     },
     "output_type": "display_data"
    }
   ],
   "source": [
    "plt.scatter(features[:, 1].numpy(), labels.numpy(), 1)"
   ],
   "metadata": {
    "collapsed": false,
    "pycharm": {
     "name": "#%%\n"
    }
   }
  },
  {
   "cell_type": "code",
   "execution_count": 13,
   "outputs": [],
   "source": [
    "# read date\n",
    "def data_iter(batch_size, feature, label):\n",
    "    num_example = len(feature)\n",
    "    indices = list(range(num_example))\n",
    "    random.shuffle(indices)   # the reading order of the samples is random\n",
    "    for i in range(0, num_example, batch_size):\n",
    "        # The data read last time may be less than one batch\n",
    "        j = torch.LongTensor(indices[i:min(i+batch_size, num_example)])\n",
    "        yield feature.index_select(dim=0, index=j), label.index_select(dim=0, index=j)"
   ],
   "metadata": {
    "collapsed": false,
    "pycharm": {
     "name": "#%%\n"
    }
   }
  },
  {
   "cell_type": "code",
   "execution_count": 14,
   "outputs": [
    {
     "name": "stdout",
     "output_type": "stream",
     "text": [
      "tensor([[ 0.1717, -0.3258],\n",
      "        [ 0.6070,  0.6723],\n",
      "        [-1.9307, -0.6204],\n",
      "        [ 1.3547,  1.1328],\n",
      "        [ 0.5466, -1.0600],\n",
      "        [ 0.4798, -0.0746],\n",
      "        [ 1.0204, -0.7774],\n",
      "        [-1.5599, -0.2066],\n",
      "        [ 0.2056,  1.0813],\n",
      "        [-1.3022, -0.1317]]) tensor([5.6604, 3.1333, 2.4413, 3.0516, 8.9062, 5.4134, 8.8773, 1.7720, 0.9384,\n",
      "        2.0167])\n"
     ]
    }
   ],
   "source": [
    "# test read\n",
    "batch = 10\n",
    "for X, y in data_iter(batch, features, labels):\n",
    "    print(X, y)\n",
    "    break"
   ],
   "metadata": {
    "collapsed": false,
    "pycharm": {
     "name": "#%%\n"
    }
   }
  },
  {
   "cell_type": "code",
   "execution_count": 10,
   "outputs": [],
   "source": [
    "# model define\n",
    "def linear_model(X, w, b):\n",
    "    return torch.mm(X, w) + b"
   ],
   "metadata": {
    "collapsed": false,
    "pycharm": {
     "name": "#%%\n"
    }
   }
  },
  {
   "cell_type": "code",
   "execution_count": 11,
   "outputs": [],
   "source": [
    "# loss-func define\n",
    "def squared_loss(y_hat, y):\n",
    "    return (y_hat - y.view(y_hat.size())) ** 2 / 2"
   ],
   "metadata": {
    "collapsed": false,
    "pycharm": {
     "name": "#%%\n"
    }
   }
  },
  {
   "cell_type": "code",
   "execution_count": 12,
   "outputs": [],
   "source": [
    "def sgd(params, learning_rate, batch_size):\n",
    "    for param in params:\n",
    "        param.data -= learning_rate * param.grad / batch_size"
   ],
   "metadata": {
    "collapsed": false,
    "pycharm": {
     "name": "#%%\n"
    }
   }
  },
  {
   "cell_type": "code",
   "execution_count": 33,
   "outputs": [
    {
     "data": {
      "text/plain": "tensor([0.], requires_grad=True)"
     },
     "execution_count": 33,
     "metadata": {},
     "output_type": "execute_result"
    }
   ],
   "source": [
    "w = torch.tensor(np.random.normal(0, 0.01, (num_inputs, 1)), dtype=torch.float32)\n",
    "b = torch.zeros(1, dtype=torch.float32)\n",
    "\n",
    "w.requires_grad_(requires_grad=True)\n",
    "b.requires_grad_(requires_grad=True)"
   ],
   "metadata": {
    "collapsed": false,
    "pycharm": {
     "name": "#%%\n"
    }
   }
  },
  {
   "cell_type": "code",
   "execution_count": 34,
   "outputs": [
    {
     "name": "stdout",
     "output_type": "stream",
     "text": [
      "epoch 1, loss 0.044182\n",
      "epoch 2, loss 0.000172\n",
      "epoch 3, loss 0.000052\n",
      "epoch 4, loss 0.000052\n",
      "epoch 5, loss 0.000052\n",
      "epoch 6, loss 0.000052\n",
      "epoch 7, loss 0.000052\n",
      "epoch 8, loss 0.000052\n",
      "epoch 9, loss 0.000052\n",
      "epoch 10, loss 0.000052\n",
      "epoch 11, loss 0.000052\n",
      "epoch 12, loss 0.000052\n",
      "epoch 13, loss 0.000052\n",
      "epoch 14, loss 0.000052\n",
      "epoch 15, loss 0.000052\n",
      "epoch 16, loss 0.000052\n",
      "epoch 17, loss 0.000052\n",
      "epoch 18, loss 0.000052\n",
      "epoch 19, loss 0.000052\n",
      "epoch 20, loss 0.000052\n",
      "epoch 21, loss 0.000052\n",
      "epoch 22, loss 0.000052\n",
      "epoch 23, loss 0.000052\n",
      "epoch 24, loss 0.000052\n",
      "epoch 25, loss 0.000052\n",
      "epoch 26, loss 0.000052\n",
      "epoch 27, loss 0.000052\n",
      "epoch 28, loss 0.000052\n",
      "epoch 29, loss 0.000052\n",
      "epoch 30, loss 0.000052\n"
     ]
    }
   ],
   "source": [
    "lr = 0.03\n",
    "num_epochs = 30\n",
    "net = linear_model\n",
    "loss = squared_loss\n",
    "\n",
    "for epoch in range(num_epochs):\n",
    "\n",
    "    for X, y in data_iter(batch, features, labels):\n",
    "        l = loss(net(X, w, b), y).sum()\n",
    "        l.backward()\n",
    "        sgd([w, b], lr, batch)\n",
    "\n",
    "        w.grad.data.zero_()\n",
    "        b.grad.data.zero_()\n",
    "\n",
    "    train_l = loss(net(features, w, b), labels)\n",
    "    print(\"epoch {:d}, loss {:8f}\".format(epoch+1, train_l.mean().item()))"
   ],
   "metadata": {
    "collapsed": false,
    "pycharm": {
     "name": "#%%\n"
    }
   }
  },
  {
   "cell_type": "code",
   "execution_count": 29,
   "outputs": [
    {
     "name": "stdout",
     "output_type": "stream",
     "text": [
      "ture:  tensor([ 2.0000, -3.4000]) tensor(4.2000)\n",
      "pred:  tensor([[ 2.0000],\n",
      "        [-3.4000]], requires_grad=True) tensor([4.2001], requires_grad=True)\n"
     ]
    }
   ],
   "source": [
    "print(\"ture: \", true_w, true_b)\n",
    "print(\"pred: \", w, b)"
   ],
   "metadata": {
    "collapsed": false,
    "pycharm": {
     "name": "#%%\n"
    }
   }
  },
  {
   "cell_type": "code",
   "execution_count": null,
   "outputs": [],
   "source": [],
   "metadata": {
    "collapsed": false,
    "pycharm": {
     "name": "#%%\n"
    }
   }
  }
 ],
 "metadata": {
  "kernelspec": {
   "display_name": "Python 3",
   "language": "python",
   "name": "python3"
  },
  "language_info": {
   "codemirror_mode": {
    "name": "ipython",
    "version": 2
   },
   "file_extension": ".py",
   "mimetype": "text/x-python",
   "name": "python",
   "nbconvert_exporter": "python",
   "pygments_lexer": "ipython2",
   "version": "2.7.6"
  }
 },
 "nbformat": 4,
 "nbformat_minor": 0
}