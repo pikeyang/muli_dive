{
 "cells": [
  {
   "cell_type": "code",
   "execution_count": 7,
   "outputs": [],
   "source": [
    "import torch\n",
    "import numpy as np\n",
    "import torch.nn as nn"
   ],
   "metadata": {
    "collapsed": false,
    "pycharm": {
     "name": "#%%\n"
    }
   }
  },
  {
   "cell_type": "code",
   "execution_count": 3,
   "metadata": {
    "collapsed": true
   },
   "outputs": [],
   "source": [
    "num_inputs = 2\n",
    "num_examples = 1000\n",
    "true_w = [2, -3.4]\n",
    "true_b = 4.2\n",
    "features = torch.tensor(np.random.normal(0, 1, (num_examples, num_inputs)), dtype=torch.float)\n",
    "labels = true_w[0] * features[:, 0] + true_w[1] * features[:, 1] + true_b\n",
    "labels += torch.tensor(np.random.normal(0, 0.01, size=labels.size()), dtype=torch.float)"
   ]
  },
  {
   "cell_type": "code",
   "execution_count": 4,
   "outputs": [],
   "source": [
    "import torch.utils.data as Data\n",
    "\n",
    "batch = 10\n",
    "\n",
    "dataset = Data.TensorDataset(features, labels)\n",
    "\n",
    "data_iter = Data.DataLoader(dataset, batch_size=batch, shuffle=True)"
   ],
   "metadata": {
    "collapsed": false,
    "pycharm": {
     "name": "#%%\n"
    }
   }
  },
  {
   "cell_type": "code",
   "execution_count": 5,
   "outputs": [
    {
     "name": "stdout",
     "output_type": "stream",
     "text": [
      "tensor([[ 0.8030,  1.5968],\n",
      "        [ 0.8364, -0.4698],\n",
      "        [ 2.0730,  1.7439],\n",
      "        [ 0.5571,  0.1515],\n",
      "        [-0.5259, -1.1967],\n",
      "        [-1.1063,  0.7440],\n",
      "        [-1.9027, -0.1122],\n",
      "        [-0.5266,  0.2075],\n",
      "        [ 0.5122,  1.6053],\n",
      "        [ 1.3023,  0.1512]]) tensor([ 0.3782,  7.4686,  2.4213,  4.7982,  7.2094, -0.5560,  0.7937,  2.4311,\n",
      "        -0.2319,  6.3022])\n"
     ]
    }
   ],
   "source": [
    "for X, y in data_iter:\n",
    "    print(X, y)\n",
    "    break"
   ],
   "metadata": {
    "collapsed": false,
    "pycharm": {
     "name": "#%%\n"
    }
   }
  },
  {
   "cell_type": "code",
   "execution_count": 10,
   "outputs": [
    {
     "name": "stdout",
     "output_type": "stream",
     "text": [
      "LinearNet(\n",
      "  (linear): Linear(in_features=2, out_features=1, bias=True)\n",
      ")\n"
     ]
    }
   ],
   "source": [
    "class LinearNet(nn.Module):\n",
    "    def __init__(self, num_feature):\n",
    "        \"\"\"\n",
    "        :param num_feature:  the number of example's feature\n",
    "        \"\"\"\n",
    "        super().__init__()\n",
    "        self.linear = nn.Linear(num_feature, 1)\n",
    "\n",
    "    def forward(self, x):\n",
    "        y_hat = self.linear(x)\n",
    "        return y_hat\n",
    "\n",
    "net = LinearNet(num_inputs)\n",
    "print(net)"
   ],
   "metadata": {
    "collapsed": false,
    "pycharm": {
     "name": "#%%\n"
    }
   }
  },
  {
   "cell_type": "code",
   "execution_count": 14,
   "outputs": [
    {
     "name": "stdout",
     "output_type": "stream",
     "text": [
      "Parameter containing:\n",
      "tensor([[-0.0192,  0.2857]], requires_grad=True)\n",
      "Parameter containing:\n",
      "tensor([0.3573], requires_grad=True)\n"
     ]
    }
   ],
   "source": [
    "net = nn.Sequential(\n",
    "    LinearNet(num_inputs)\n",
    ")\n",
    "\n",
    "for param in net.parameters():\n",
    "    print(param)"
   ],
   "metadata": {
    "collapsed": false,
    "pycharm": {
     "name": "#%%\n"
    }
   }
  },
  {
   "cell_type": "code",
   "execution_count": 26,
   "outputs": [
    {
     "data": {
      "text/plain": "Parameter containing:\ntensor([0.], requires_grad=True)"
     },
     "execution_count": 26,
     "metadata": {},
     "output_type": "execute_result"
    }
   ],
   "source": [
    "from torch.nn import init\n",
    "\n",
    "init.normal_(net[0].linear.weight, mean=0, std=0.01)\n",
    "init.constant_(net[0].linear.bias, val=0)  # 也可以直接修改bias的data: net[0].bias.data.fill_(0)"
   ],
   "metadata": {
    "collapsed": false,
    "pycharm": {
     "name": "#%%\n"
    }
   }
  },
  {
   "cell_type": "code",
   "execution_count": 17,
   "outputs": [
    {
     "name": "stdout",
     "output_type": "stream",
     "text": [
      "Parameter containing:\n",
      "tensor([[-0.0177,  0.0241]], requires_grad=True)\n",
      "Parameter containing:\n",
      "tensor([0.], requires_grad=True)\n"
     ]
    }
   ],
   "source": [
    "for param in net.parameters():\n",
    "    print(param)"
   ],
   "metadata": {
    "collapsed": false,
    "pycharm": {
     "name": "#%%\n"
    }
   }
  },
  {
   "cell_type": "code",
   "execution_count": 18,
   "outputs": [],
   "source": [
    "loss = nn.MSELoss()"
   ],
   "metadata": {
    "collapsed": false,
    "pycharm": {
     "name": "#%%\n"
    }
   }
  },
  {
   "cell_type": "code",
   "execution_count": 20,
   "outputs": [
    {
     "name": "stdout",
     "output_type": "stream",
     "text": [
      "SGD (\n",
      "Parameter Group 0\n",
      "    dampening: 0\n",
      "    lr: 0.03\n",
      "    momentum: 0\n",
      "    nesterov: False\n",
      "    weight_decay: 0\n",
      ")\n"
     ]
    }
   ],
   "source": [
    "import torch.optim as optim\n",
    "\n",
    "optimizer = optim.SGD(net.parameters(), lr=0.03)\n",
    "print(optimizer)"
   ],
   "metadata": {
    "collapsed": false,
    "pycharm": {
     "name": "#%%\n"
    }
   }
  },
  {
   "cell_type": "code",
   "execution_count": 21,
   "outputs": [],
   "source": [
    "# 调整学习率\n",
    "for param_group in optimizer.param_groups:\n",
    "    param_group['lr'] *= 0.1 # 学习率为之前的0.1倍"
   ],
   "metadata": {
    "collapsed": false,
    "pycharm": {
     "name": "#%%\n"
    }
   }
  },
  {
   "cell_type": "code",
   "execution_count": 22,
   "outputs": [
    {
     "name": "stdout",
     "output_type": "stream",
     "text": [
      "SGD (\n",
      "Parameter Group 0\n",
      "    dampening: 0\n",
      "    lr: 0.003\n",
      "    momentum: 0\n",
      "    nesterov: False\n",
      "    weight_decay: 0\n",
      ")\n"
     ]
    }
   ],
   "source": [
    "print(optimizer)"
   ],
   "metadata": {
    "collapsed": false,
    "pycharm": {
     "name": "#%%\n"
    }
   }
  },
  {
   "cell_type": "code",
   "execution_count": 27,
   "outputs": [
    {
     "name": "stdout",
     "output_type": "stream",
     "text": [
      "epoch 1, loss: 11.649608\n",
      "epoch 2, loss: 2.967695\n",
      "epoch 3, loss: 1.056254\n",
      "epoch 4, loss: 0.304587\n",
      "epoch 5, loss: 0.044725\n",
      "epoch 6, loss: 0.019371\n",
      "epoch 7, loss: 0.002882\n",
      "epoch 8, loss: 0.002456\n",
      "epoch 9, loss: 0.000464\n",
      "epoch 10, loss: 0.000201\n",
      "epoch 11, loss: 0.000102\n",
      "epoch 12, loss: 0.000134\n",
      "epoch 13, loss: 0.000122\n",
      "epoch 14, loss: 0.000156\n",
      "epoch 15, loss: 0.000112\n",
      "epoch 16, loss: 0.000086\n",
      "epoch 17, loss: 0.000106\n",
      "epoch 18, loss: 0.000100\n",
      "epoch 19, loss: 0.000138\n",
      "epoch 20, loss: 0.000121\n",
      "epoch 21, loss: 0.000080\n",
      "epoch 22, loss: 0.000074\n",
      "epoch 23, loss: 0.000037\n",
      "epoch 24, loss: 0.000081\n",
      "epoch 25, loss: 0.000156\n",
      "epoch 26, loss: 0.000042\n",
      "epoch 27, loss: 0.000057\n",
      "epoch 28, loss: 0.000056\n",
      "epoch 29, loss: 0.000053\n",
      "epoch 30, loss: 0.000029\n"
     ]
    }
   ],
   "source": [
    "num_epoch = 30\n",
    "\n",
    "for epoch in range(num_epoch):\n",
    "\n",
    "    for X, y in data_iter:\n",
    "        output = net(X)\n",
    "        l = loss(y, output.view(y.size()))\n",
    "        optimizer.zero_grad()\n",
    "        l.backward()\n",
    "        optimizer.step()\n",
    "\n",
    "    print(\"epoch {:d}, loss: {:7f}\".format(epoch+1, l.item()))"
   ],
   "metadata": {
    "collapsed": false,
    "pycharm": {
     "name": "#%%\n"
    }
   }
  },
  {
   "cell_type": "code",
   "execution_count": 30,
   "outputs": [
    {
     "name": "stdout",
     "output_type": "stream",
     "text": [
      "[2, -3.4] Parameter containing:\n",
      "tensor([[ 1.9999, -3.3995]], requires_grad=True)\n",
      "4.2 Parameter containing:\n",
      "tensor([4.1997], requires_grad=True)\n"
     ]
    }
   ],
   "source": [
    "# check the value of param\n",
    "\n",
    "dense = net[0]\n",
    "print(true_w, dense.linear.weight)  # weight and bias belong to class attribute 'linear'\n",
    "print(true_b, dense.linear.bias)"
   ],
   "metadata": {
    "collapsed": false,
    "pycharm": {
     "name": "#%%\n"
    }
   }
  },
  {
   "cell_type": "code",
   "execution_count": null,
   "outputs": [],
   "source": [],
   "metadata": {
    "collapsed": false,
    "pycharm": {
     "name": "#%%\n"
    }
   }
  }
 ],
 "metadata": {
  "kernelspec": {
   "display_name": "Python 3",
   "language": "python",
   "name": "python3"
  },
  "language_info": {
   "codemirror_mode": {
    "name": "ipython",
    "version": 2
   },
   "file_extension": ".py",
   "mimetype": "text/x-python",
   "name": "python",
   "nbconvert_exporter": "python",
   "pygments_lexer": "ipython2",
   "version": "2.7.6"
  }
 },
 "nbformat": 4,
 "nbformat_minor": 0
}